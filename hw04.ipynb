{
  "cells": [
    {
      "cell_type": "markdown",
      "id": "1f9ca328-7409-4f06-9989-57f5289c50e0",
      "metadata": {},
      "source": [
        "# BEE 4750 Homework 4: Linear Programming and Capacity Expansion\n",
        "\n",
        "**Name**: Priya Shah, Bailey Belinger, Camila Monter\n",
        "\n",
        "**ID**: \n",
        "\n",
        "> **Due Date**\n",
        ">\n",
        "> Thursday, 11/07/23, 9:00pm\n",
        "\n",
        "## Overview\n",
        "\n",
        "### Instructions\n",
        "\n",
        "-   Problem 1 asks you to formulate and solve a resource allocation\n",
        "    problem using linear programming.\n",
        "-   Problem 2 asks you to formulate, solve, and analyze a standard\n",
        "    generating capacity expansion problem.\n",
        "-   Problem 3 (5750 only) asks you to add a CO<sub>2</sub> constraint to\n",
        "    the capacity expansion problem and identify changes in the resulting\n",
        "    solution.\n",
        "\n",
        "### Load Environment\n",
        "\n",
        "The following code loads the environment and makes sure all needed\n",
        "packages are installed. This should be at the start of most Julia\n",
        "scripts."
      ]
    },
    {
      "cell_type": "code",
      "execution_count": 1,
      "id": "2",
      "metadata": {},
      "outputs": [
        {
          "name": "stderr",
          "output_type": "stream",
          "text": [
            "\u001b[32m\u001b[1m  Activating\u001b[22m\u001b[39m project at `~/bee4750/hw/hw4-last-3-brain-cells`\n",
            "\u001b[32m\u001b[1m   Installed\u001b[22m\u001b[39m ArgCheck ─────── v2.3.0\n",
            "\u001b[32m\u001b[1m   Installed\u001b[22m\u001b[39m MarkdownTables ─ v1.1.0\n",
            "\u001b[32m\u001b[1m   Installed\u001b[22m\u001b[39m DisplayAs ────── v0.1.6\n",
            "\u001b[32m\u001b[1mPrecompiling\u001b[22m\u001b[39m project...\n",
            "\u001b[32m  ✓ \u001b[39m\u001b[90mArgCheck\u001b[39m\n",
            "\u001b[32m  ✓ \u001b[39m\u001b[90mDisplayAs\u001b[39m\n",
            "\u001b[32m  ✓ \u001b[39mMarkdownTables\n",
            "  3 dependencies successfully precompiled in 3 seconds. 188 already precompiled.\n"
          ]
        }
      ],
      "source": [
        "import Pkg\n",
        "Pkg.activate(@__DIR__)\n",
        "Pkg.instantiate()"
      ]
    },
    {
      "cell_type": "code",
      "execution_count": 2,
      "id": "4",
      "metadata": {},
      "outputs": [
        {
          "name": "stderr",
          "output_type": "stream",
          "text": [
            "\u001b[36m\u001b[1m[ \u001b[22m\u001b[39m\u001b[36m\u001b[1mInfo: \u001b[22m\u001b[39mPrecompiling IJuliaExt [2f4121a4-3b3a-5ce6-9c5e-1f2673ce168a]\n"
          ]
        }
      ],
      "source": [
        "using JuMP\n",
        "using HiGHS\n",
        "using DataFrames\n",
        "using Plots\n",
        "using Measures\n",
        "using CSV\n",
        "using MarkdownTables"
      ]
    },
    {
      "cell_type": "markdown",
      "id": "95301b87-804f-412b-8301-2b17c375bdb9",
      "metadata": {},
      "source": [
        "## Problems (Total: 50/60 Points)\n",
        "\n",
        "### Problem 1 (20 points)\n",
        "\n",
        "A farmer has access to a pesticide which can be used on corn, soybeans,\n",
        "and wheat fields, and costs \\$70/kg-ha-yr to apply. The crop yields the\n",
        "farmer can obtain following crop yields by applying varying rates of\n",
        "pesticides to the field are shown in\n",
        "<a href=\"#tbl-yields\" class=\"quarto-xref\">Table 1</a>.\n",
        "\n",
        "| Application Rate (kg/ha) | Soybean (kg/ha) | Wheat (kg/ha) | Corn (kg/ha) |\n",
        "|:------------------------:|:---------------:|:-------------:|:------------:|\n",
        "|            0             |      2900       |     3500      |     5900     |\n",
        "|            1             |      3800       |     4100      |     6700     |\n",
        "|            2             |      4400       |     4200      |     7900     |\n",
        "\n",
        "Table 1: Crop yields from applying varying pesticide rates for Problem\n",
        "1.\n",
        "\n",
        "The costs of production, *excluding pesticides*, for each crop, and\n",
        "selling prices, are shown in\n",
        "<a href=\"#tbl-costs\" class=\"quarto-xref\">Table 2</a>.\n",
        "\n",
        "|   Crop   | Production Cost (\\$/ha-yr) | Selling Price (\\$/kg) |\n",
        "|:--------:|:--------------------------:|:---------------------:|\n",
        "| Soybeans |            350             |         0.36          |\n",
        "|  Wheat   |            280             |         0.27          |\n",
        "|   Corn   |            390             |         0.22          |\n",
        "\n",
        "Table 2: Costs of crop production, excluding pesticides, and selling\n",
        "prices for each crop.\n",
        "\n",
        "Recently, environmental authorities have declared that farms cannot have\n",
        "an *average* application rate on soybeans, wheat, and corn which exceeds\n",
        "0.8, 0.7, and 0.6 kg/ha, respectively. The farmer has asked you for\n",
        "advice on how they should plant crops and apply pesticides to maximize\n",
        "profits over 130 total ha while remaining in regulatory compliance if\n",
        "demand for each crop (which is the maximum the market would buy) this\n",
        "year is 250,000 kg?\n",
        "\n",
        "**In this problem**:\n",
        "\n",
        "-   Formulate a linear program for this resource allocation problem,\n",
        "    including clear definitions of decision variable(s) (including\n",
        "    units), objective function(s), and constraint(s) (make sure to\n",
        "    explain functions and constraints with any needed derivations and\n",
        "    explanations). **Tip: Make sure that all of your constraints are\n",
        "    linear**.\n",
        "-   Implement the program in `JuMP.jl` and find the solution. How many\n",
        "    ha should the farmer dedicate to each crop and with what pesticide\n",
        "    application rate(s)? How much profit will the farmer expect to make?\n",
        "-   The farmer has an opportunity to buy an extra 10 ha of land. How\n",
        "    much extra profit would this land be worth to the farmer? Discuss\n",
        "    why this value makes sense and whether you would recommend the\n",
        "    farmer should make the purchase."
      ]
    },
    {
      "cell_type": "code",
      "execution_count": 4,
      "id": "fdadca99",
      "metadata": {},
      "outputs": [
        {
          "ename": "LoadError",
          "evalue": "MethodError: no method matching getindex(::AffExpr, ::Int64)",
          "output_type": "error",
          "traceback": [
            "MethodError: no method matching getindex(::AffExpr, ::Int64)",
            "",
            "Stacktrace:",
            " [1] top-level scope",
            "   @ In[4]:25"
          ]
        }
      ],
      "source": [
        "# Defining variables\n",
        "ac = 70 # $/kg-ha-yr\n",
        "\n",
        "soy0 = 2900 # kg/ha\n",
        "soy1 = 3800 # kg/ha\n",
        "sp_soy = 0.36 # $/kg\n",
        "pc_soy = 350 # $/ha-yr\n",
        "\n",
        "wheat0 = 3500 # kg/ha\n",
        "wheat1 = 4100 # kg/ha\n",
        "sp_wheat = 0.27 # $/kg\n",
        "pc_wheat = 280 # $/ha-yr \n",
        "\n",
        "corn0 = 5900 # kg/ha\n",
        "corn1 = 6700 # kg/ha\n",
        "sp_corn = 0.22 # $/kg\n",
        "pc_corn = 390 # $/ha-yr\n",
        "\n",
        "crop_model = Model(HiGHS.Optimizer)\n",
        "@variable(crop_model, p[1:3]>=0)\n",
        "@variable(crop_model, a[1:3]>=0)\n",
        "P = sum(p)\n",
        "A = sum(a)\n",
        "\n",
        "sell_price = sp_soy*P[1] + sp_wheat*P[2] + sp_corn*P[3]\n",
        "prod_cost = pc_soy*a[1] + pc_wheat*a[2] + pc_corn*a[3]\n",
        "app_cost = 70*P*A\n",
        "profit = sell_price - prod_cost - app_cost\n",
        "\n",
        "Rs = ((p[1]/a[1]) - soy0) * (1/(soy1 - soy0))\n",
        "Rw = ((p[2]/a[2]) - wheat0) * (1/(wheat1 - wheat0))\n",
        "Rc = ((p[3]/a[3]) - corn0) * (1/(corn1 - corn0))\n",
        "\n",
        "@objective(crop_model, Max, profit)\n",
        "@constraint(crop_model, P constraint, p[1:3]<=250000)\n",
        "@constraint(crop_model, A constraint, A<=130)\n",
        "@constraint(crop_model, Rs constraint, Rs<=0.8)\n",
        "@constraint(crop_model, Rw constraint, Rw<=0.7)\n",
        "@constraint(crop_model, Rc constraint, Rc<=0.6)\n",
        "\n",
        "print(crop_model)\n",
        "\n",
        "#optimize!(crop_model)"
      ]
    },
    {
      "cell_type": "markdown",
      "id": "c7dc1682",
      "metadata": {},
      "source": [
        "### Problem 2 (30 points)\n",
        "\n",
        "For this problem, we will use hourly load (demand) data from 2013 in New\n",
        "York’s Zone C (which includes Ithaca). The load data is loaded and\n",
        "plotted below in <a href=\"#fig-demand\" class=\"quarto-xref\">Figure 1</a>."
      ]
    },
    {
      "cell_type": "code",
      "execution_count": 1,
      "id": "cell-fig-demand",
      "metadata": {},
      "outputs": [],
      "source": [
        "# load the data, pull Zone C, and reformat the DataFrame\n",
        "NY_demand = DataFrame(CSV.File(\"data/2013_hourly_load_NY.csv\"))\n",
        "rename!(NY_demand, :\"Time Stamp\" => :Date)\n",
        "demand = NY_demand[:, [:Date, :C]]\n",
        "rename!(demand, :C => :Demand)\n",
        "demand[:, :Hour] = 1:nrow(demand)\n",
        "\n",
        "# plot demand\n",
        "plot(demand.Hour, demand.Demand, xlabel=\"Hour of Year\", ylabel=\"Demand (MWh)\", label=:false)"
      ]
    },
    {
      "cell_type": "markdown",
      "id": "093068c3-31fc-4cff-8844-acf115d23ef2",
      "metadata": {},
      "source": [
        "Next, we load the generator data, shown in\n",
        "<a href=\"#tbl-generators\" class=\"quarto-xref\">Table 3</a>. This data\n",
        "includes fixed costs (\\$/MW installed), variable costs (\\$/MWh\n",
        "generated), and CO<sub>2</sub> emissions intensity (tCO<sub>2</sub>/MWh\n",
        "generated)."
      ]
    },
    {
      "cell_type": "code",
      "execution_count": 1,
      "id": "2be2db0e-b9d6-4c46-b0cd-72a7b94257d3",
      "metadata": {},
      "outputs": [],
      "source": [
        "gens = DataFrame(CSV.File(\"data/generators.csv\"))"
      ]
    },
    {
      "cell_type": "markdown",
      "id": "3393bcbd-c9db-49c8-8df2-4fbd18e2ef7a",
      "metadata": {},
      "source": [
        "Finally, we load the hourly solar and wind capacity factors, which are\n",
        "plotted in <a href=\"#fig-cf\" class=\"quarto-xref\">Figure 2</a>. These\n",
        "tell us the fraction of installed capacity which is expected to be\n",
        "available in a given hour for generation (typically based on the average\n",
        "meteorology)."
      ]
    },
    {
      "cell_type": "code",
      "execution_count": 1,
      "id": "402cb6be-4e9b-47ff-94d8-7bcf34db5e1f",
      "metadata": {
        "layout-nrow": 2
      },
      "outputs": [],
      "source": [
        "# load capacify factors into a DataFrame\n",
        "cap_factor = DataFrame(CSV.File(\"data/wind_solar_capacity_factors.csv\"))\n",
        "\n",
        "# plot January capacity factors\n",
        "p1 = plot(cap_factor.Wind[1:(24*31)], label=\"Wind\")\n",
        "plot!(cap_factor.Solar[1:(24*31)], label=\"Solar\")\n",
        "xaxis!(\"Hour of the Month\")\n",
        "yaxis!(\"Capacity Factor\")\n",
        "\n",
        "p2 = plot(cap_factor.Wind[4344:4344+(24*31)], label=\"Wind\")\n",
        "plot!(cap_factor.Solar[4344:4344+(24*31)], label=\"Solar\")\n",
        "xaxis!(\"Hour of the Month\")\n",
        "yaxis!(\"Capacity Factor\")\n",
        "\n",
        "display(p1)\n",
        "display(p2)"
      ]
    },
    {
      "cell_type": "markdown",
      "id": "937504b4-b01f-4e1c-893a-39af537a2b63",
      "metadata": {},
      "source": [
        "You have been asked to develop a generating capacity expansion plan for\n",
        "the utility in Riley County, NY, which currently has no existing\n",
        "electrical generation infrastructure. The utility can build any of the\n",
        "following plant types: geothermal, coal, natural gas combined cycle gas\n",
        "turbine (CCGT), natural gas combustion turbine (CT), solar, and wind.\n",
        "\n",
        "While coal, CCGT, and CT plants can generate at their full installed\n",
        "capacity, geothermal plants operate at maximum 85% capacity, and solar\n",
        "and wind available capacities vary by the hour depend on the expected\n",
        "meteorology. The utility will also penalize any non-served demand at a\n",
        "rate of \\$10,000/MWh.\n",
        "\n",
        "**In this problem**:\n",
        "\n",
        "-   Formulate a linear program for this capacity expansion problem,\n",
        "    including clear definitions of decision variable(s) (including\n",
        "    units), objective function(s), and constraint(s) (make sure to\n",
        "    explain functions and constraints with any needed derivations and\n",
        "    explanations).\n",
        "-   Implement your linear program in `JuMP.jl`. Find the optimal\n",
        "    solution. How much should the utility build of each type of\n",
        "    generating plant? What will the total cost be? How much energy will\n",
        "    be non-served?\n",
        "-   What fraction of annual generation does each plant type produce? How\n",
        "    does this compare to the breakdown of built capacity that you found\n",
        "    in Problem 1.5? Do these results make sense given the generator\n",
        "    data?\n",
        "-   Make a plot of the electricity price in each hour. Discuss any\n",
        "    trends that you see.\n",
        "\n",
        "> **Significant Digits**\n",
        ">\n",
        "> Use `round(x; digits=n)` to report values to the appropriate\n",
        "> precision! If your number is on a different order of magnitude and you\n",
        "> want to round to a certain number of significant digits, you can use\n",
        "> `round(x; sigdigits=n)`.\n",
        "\n",
        "> **Getting Variable Output Values**\n",
        ">\n",
        "> `value.(x)` will report the values of a `JuMP` variable `x`, but it\n",
        "> will return a special container which holds other information about\n",
        "> `x` that is useful for `JuMP`. This means that you can’t use this\n",
        "> output directly for further calculations. To just extract the values,\n",
        "> use `value.(x).data`.\n",
        "\n",
        "> **Suppressing Model Command Output**\n",
        ">\n",
        "> The output of specifying model components (variable or constraints)\n",
        "> can be quite large for this problem because of the number of time\n",
        "> periods. If you end a cell with an `@variable` or `@constraint`\n",
        "> command, I *highly* recommend suppressing output by adding a\n",
        "> semi-colon after the last command, or you might find that your\n",
        "> notebook crashes.\n",
        "\n",
        "### Problem 3 (10 points)\n",
        "\n",
        "**This problem is only required for students in BEE 5750**.\n",
        "\n",
        "The NY state legislature is considering enacting an annual\n",
        "CO<sub>2</sub> limit, which for the utility would limit the emissions in\n",
        "its footprint to 1.5 MtCO<sub>2</sub>/yr.\n",
        "\n",
        "**In this problem**:\n",
        "\n",
        "-   Reformulate your linear program from Problem 2 with any necessary\n",
        "    changes to capture the CO<sub>2</sub> limit.\n",
        "-   Implement the new optimization problem and find the optimal\n",
        "    solution. How much should the utility build of each type of\n",
        "    generating plant? What is different from your plan from Problem 1?\n",
        "    Do these changes make sense?\n",
        "-   What would the value to the utility be of allowing it to emit an\n",
        "    additional 1000 tCO<sub>2</sub>/yr? An additional 5000?"
      ]
    },
    {
      "cell_type": "markdown",
      "id": "4f454cd1-66ed-4951-bc25-4b6798ad49bc",
      "metadata": {},
      "source": [
        "## References\n",
        "\n",
        "List any external references consulted, including classmates."
      ]
    }
  ],
  "metadata": {
    "kernel_info": {
      "name": "julia"
    },
    "kernelspec": {
      "display_name": "Julia 1.10.5",
      "language": "julia",
      "name": "julia-1.10"
    },
    "language_info": {
      "file_extension": ".jl",
      "mimetype": "application/julia",
      "name": "julia",
      "version": "1.10.5"
    }
  },
  "nbformat": 4,
  "nbformat_minor": 5
}
